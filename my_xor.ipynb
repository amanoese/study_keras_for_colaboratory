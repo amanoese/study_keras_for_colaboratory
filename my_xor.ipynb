{
  "nbformat": 4,
  "nbformat_minor": 0,
  "metadata": {
    "colab": {
      "name": "my_xor.ipynb",
      "version": "0.3.2",
      "provenance": [],
      "collapsed_sections": [],
      "include_colab_link": true
    },
    "kernelspec": {
      "name": "python3",
      "display_name": "Python 3"
    },
    "accelerator": "GPU"
  },
  "cells": [
    {
      "cell_type": "markdown",
      "metadata": {
        "id": "view-in-github",
        "colab_type": "text"
      },
      "source": [
        "<a href=\"https://colab.research.google.com/github/amanoese/study_keras_for_colaboratory/blob/master/my_xor.ipynb\" target=\"_parent\"><img src=\"https://colab.research.google.com/assets/colab-badge.svg\" alt=\"Open In Colab\"/></a>"
      ]
    },
    {
      "metadata": {
        "id": "ShUdlVl5dMwC",
        "colab_type": "code",
        "colab": {}
      },
      "cell_type": "code",
      "source": [
        "from keras import models\n",
        "from keras import layers\n",
        "import matplotlib.pyplot as plt\n",
        "import numpy as np\n",
        "\n",
        "\n",
        "data = np.array([[0.0, 0.0],\n",
        "                [1.0,  0.0],\n",
        "                [0.0,  1.0],\n",
        "                [1.0,  1.0]], np.float32)\n",
        "\n",
        "label = np.array([0,1,1,0], np.int32)\n",
        "\n",
        "test_data  = data.copy()\n",
        "test_label = label.copy()\n",
        "\n",
        "train_datas = data.copy()\n",
        "train_labels = label.copy()\n",
        "\n",
        "print (train_datas)\n",
        "\n",
        "model = models.Sequential()\n",
        "model.add(layers.Dense(2,activation='sigmoid',input_shape=(2,)))\n",
        "model.add(layers.Dense(1,activation='linear'))\n",
        "model.compile(optimizer='rmsprop',loss='mean_squared_error',metrics=['acc'])\n",
        "\n",
        "history = model.fit(train_datas,train_labels,validation_data=(test_data,test_label),epochs=5000,batch_size=4,verbose=0)\n",
        "\n",
        "loss_values = history.history['loss']\n",
        "val_loss_values = history.history['val_loss']\n",
        "\n",
        "epoches = range(1,len(loss_values) + 1)\n",
        "\n",
        "plt.plot(epoches,loss_values, 'bo',label='training loss')\n",
        "plt.plot(epoches,val_loss_values, 'b',label='validation loss')\n",
        "\n",
        "plt.title('train and loss')\n",
        "plt.xlabel('Epochs')\n",
        "plt.ylabel('loss')\n",
        "plt.legend()\n",
        "plt.show()\n",
        "\n",
        "np.round(model.predict(test_data),4)"
      ],
      "execution_count": 0,
      "outputs": []
    }
  ]
}