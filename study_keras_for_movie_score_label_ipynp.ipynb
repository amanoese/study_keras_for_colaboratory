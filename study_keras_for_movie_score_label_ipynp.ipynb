{
  "nbformat": 4,
  "nbformat_minor": 0,
  "metadata": {
    "colab": {
      "name": "study_keras_for_movie_score_label.ipynp",
      "version": "0.3.2",
      "provenance": [],
      "collapsed_sections": [],
      "include_colab_link": true
    },
    "kernelspec": {
      "name": "python3",
      "display_name": "Python 3"
    },
    "accelerator": "TPU"
  },
  "cells": [
    {
      "cell_type": "markdown",
      "metadata": {
        "id": "view-in-github",
        "colab_type": "text"
      },
      "source": [
        "<a href=\"https://colab.research.google.com/github/amanoese/study_keras_for_colaboratory/blob/master/study_keras_for_movie_score_label_ipynp.ipynb\" target=\"_parent\"><img src=\"https://colab.research.google.com/assets/colab-badge.svg\" alt=\"Open In Colab\"/></a>"
      ]
    },
    {
      "metadata": {
        "id": "g1ST3hpWx1gr",
        "colab_type": "code",
        "outputId": "3fb738f8-db22-4a5b-863f-7838a99cc3ee",
        "colab": {
          "base_uri": "https://localhost:8080/",
          "height": 328
        }
      },
      "cell_type": "code",
      "source": [
        "!nvidia-smi"
      ],
      "execution_count": 0,
      "outputs": [
        {
          "output_type": "stream",
          "text": [
            "Tue Apr 16 01:37:05 2019       \n",
            "+-----------------------------------------------------------------------------+\n",
            "| NVIDIA-SMI 418.56       Driver Version: 410.79       CUDA Version: 10.0     |\n",
            "|-------------------------------+----------------------+----------------------+\n",
            "| GPU  Name        Persistence-M| Bus-Id        Disp.A | Volatile Uncorr. ECC |\n",
            "| Fan  Temp  Perf  Pwr:Usage/Cap|         Memory-Usage | GPU-Util  Compute M. |\n",
            "|===============================+======================+======================|\n",
            "|   0  Tesla T4            Off  | 00000000:00:04.0 Off |                    0 |\n",
            "| N/A   69C    P8    18W /  70W |      0MiB / 15079MiB |      0%      Default |\n",
            "+-------------------------------+----------------------+----------------------+\n",
            "                                                                               \n",
            "+-----------------------------------------------------------------------------+\n",
            "| Processes:                                                       GPU Memory |\n",
            "|  GPU       PID   Type   Process name                             Usage      |\n",
            "|=============================================================================|\n",
            "|  No running processes found                                                 |\n",
            "+-----------------------------------------------------------------------------+\n"
          ],
          "name": "stdout"
        }
      ]
    },
    {
      "metadata": {
        "id": "BMOspZQIyvMB",
        "colab_type": "code",
        "outputId": "e65411ed-3a93-4752-e4e2-d97a808d43e2",
        "colab": {
          "base_uri": "https://localhost:8080/",
          "height": 1342
        }
      },
      "cell_type": "code",
      "source": [
        "from keras import models\n",
        "from keras import layers\n",
        "from keras.datasets import imdb\n",
        "import numpy as np\n",
        "import matplotlib.pyplot as plt\n",
        "\n",
        "(train_data,train_labels),(test_data,test_labels) = imdb.load_data(num_words=10000)\n",
        "\n",
        "word_index = imdb.get_word_index()\n",
        "reverse_word_index = dict([(value,key) for (key,value) in word_index.items()])\n",
        "\n",
        "# index 0 is defined padding\n",
        "# index 1 is defined sequence start code\n",
        "# index 2 is defined unknown word\n",
        "decoded_review = ' '.join([reverse_word_index.get(i - 3,'?') for i in train_data[0]])\n",
        "\n",
        "def vectorize_sequences(sequences, demensions=10000):\n",
        "  results = np.zeros((len(sequences),demensions))\n",
        "  \n",
        "  for i, sequence in enumerate(sequences):\n",
        "    results[i,sequence] = 1\n",
        "  return results\n",
        "\n",
        "x_train = vectorize_sequences(train_data)\n",
        "x_test = vectorize_sequences(test_data)\n",
        "\n",
        "y_train = np.asarray(train_labels).astype('float32')\n",
        "y_test = np.asarray(test_labels).astype('float32')\n",
        "\n",
        "x_val = x_train[:10000]\n",
        "partial_x_train = x_train[10000:]\n",
        "\n",
        "y_val = y_train[:10000]\n",
        "partial_y_train = y_train[10000:]\n",
        "\n",
        "\n",
        "model = models.Sequential()\n",
        "model.add(layers.Dense(16,activation='relu',input_shape=(10000,)))\n",
        "model.add(layers.Dense(16,activation='relu'))\n",
        "model.add(layers.Dense(1,activation='sigmoid'))\n",
        "          \n",
        "model.compile(optimizer='rmsprop',loss='binary_crossentropy',metrics=['acc'])\n",
        "\n",
        "history = model.fit(partial_x_train,partial_y_train,epochs=20,batch_size=512,validation_data=(x_val,y_val))\n",
        "          \n",
        "history_dict = history.history\n",
        "history_dict.keys()\n",
        "\n",
        "loss_values = history_dict['loss']\n",
        "val_loss_values = history_dict['val_loss']\n",
        "\n",
        "epoches = range(1,len(loss_values) + 1)\n",
        "\n",
        "plt.plot(epoches,loss_values, 'bo',label='training loss')\n",
        "plt.plot(epoches,val_loss_values, 'b',label='validation loss')\n",
        "\n",
        "plt.title('train and loss')\n",
        "plt.xlabel('Epochs')\n",
        "plt.ylabel('loss')\n",
        "plt.legend()\n",
        "plt.show()\n",
        "\n",
        "acc = history_dict['acc']\n",
        "val_acc = history_dict['val_acc']\n",
        "\n",
        "plt.plot(epoches,acc, 'bo',label='traing acc')\n",
        "plt.plot(epoches,val_acc, 'b',label='validation acc')\n",
        "\n",
        "plt.title('train and acc')\n",
        "plt.xlabel('Epochs')\n",
        "plt.ylabel('Accuracy')\n",
        "plt.legend()\n",
        "plt.show()"
      ],
      "execution_count": 0,
      "outputs": [
        {
          "output_type": "stream",
          "text": [
            "Train on 15000 samples, validate on 10000 samples\n",
            "Epoch 1/20\n",
            "15000/15000 [==============================] - 2s 156us/step - loss: 0.5084 - acc: 0.7813 - val_loss: 0.3797 - val_acc: 0.8684\n",
            "Epoch 2/20\n",
            "15000/15000 [==============================] - 2s 101us/step - loss: 0.3004 - acc: 0.9047 - val_loss: 0.3004 - val_acc: 0.8897\n",
            "Epoch 3/20\n",
            "15000/15000 [==============================] - 2s 102us/step - loss: 0.2179 - acc: 0.9285 - val_loss: 0.3085 - val_acc: 0.8711\n",
            "Epoch 4/20\n",
            "15000/15000 [==============================] - 2s 101us/step - loss: 0.1750 - acc: 0.9437 - val_loss: 0.2840 - val_acc: 0.8832\n",
            "Epoch 5/20\n",
            "15000/15000 [==============================] - 2s 102us/step - loss: 0.1427 - acc: 0.9543 - val_loss: 0.2841 - val_acc: 0.8872\n",
            "Epoch 6/20\n",
            "15000/15000 [==============================] - 2s 102us/step - loss: 0.1150 - acc: 0.9650 - val_loss: 0.3166 - val_acc: 0.8772\n",
            "Epoch 7/20\n",
            "15000/15000 [==============================] - 2s 101us/step - loss: 0.0980 - acc: 0.9705 - val_loss: 0.3127 - val_acc: 0.8846\n",
            "Epoch 8/20\n",
            "15000/15000 [==============================] - 2s 101us/step - loss: 0.0807 - acc: 0.9763 - val_loss: 0.3859 - val_acc: 0.8649\n",
            "Epoch 9/20\n",
            "15000/15000 [==============================] - 2s 101us/step - loss: 0.0661 - acc: 0.9821 - val_loss: 0.3635 - val_acc: 0.8782\n",
            "Epoch 10/20\n",
            "15000/15000 [==============================] - 2s 101us/step - loss: 0.0561 - acc: 0.9853 - val_loss: 0.3843 - val_acc: 0.8792\n",
            "Epoch 11/20\n",
            "15000/15000 [==============================] - 2s 101us/step - loss: 0.0439 - acc: 0.9893 - val_loss: 0.4153 - val_acc: 0.8779\n",
            "Epoch 12/20\n",
            "15000/15000 [==============================] - 2s 102us/step - loss: 0.0381 - acc: 0.9921 - val_loss: 0.4524 - val_acc: 0.8690\n",
            "Epoch 13/20\n",
            "15000/15000 [==============================] - 2s 101us/step - loss: 0.0300 - acc: 0.9928 - val_loss: 0.4698 - val_acc: 0.8729\n",
            "Epoch 14/20\n",
            "15000/15000 [==============================] - 2s 101us/step - loss: 0.0247 - acc: 0.9945 - val_loss: 0.5023 - val_acc: 0.8726\n",
            "Epoch 15/20\n",
            "15000/15000 [==============================] - 2s 101us/step - loss: 0.0175 - acc: 0.9979 - val_loss: 0.5341 - val_acc: 0.8693\n",
            "Epoch 16/20\n",
            "15000/15000 [==============================] - 2s 102us/step - loss: 0.0149 - acc: 0.9983 - val_loss: 0.5710 - val_acc: 0.8697\n",
            "Epoch 17/20\n",
            "15000/15000 [==============================] - 2s 101us/step - loss: 0.0151 - acc: 0.9971 - val_loss: 0.6024 - val_acc: 0.8697\n",
            "Epoch 18/20\n",
            "15000/15000 [==============================] - 2s 102us/step - loss: 0.0075 - acc: 0.9996 - val_loss: 0.6783 - val_acc: 0.8633\n",
            "Epoch 19/20\n",
            "15000/15000 [==============================] - 2s 102us/step - loss: 0.0117 - acc: 0.9975 - val_loss: 0.6692 - val_acc: 0.8674\n",
            "Epoch 20/20\n",
            "15000/15000 [==============================] - 2s 102us/step - loss: 0.0041 - acc: 0.9999 - val_loss: 0.6942 - val_acc: 0.8658\n"
          ],
          "name": "stdout"
        },
        {
          "output_type": "display_data",
          "data": {
            "image/png": "[encoded data removed]",
            "text/plain": [
              "<Figure size 432x288 with 1 Axes>"
            ]
          },
          "metadata": {
            "tags": []
          }
        },
        {
          "output_type": "display_data",
          "data": {
            "image/png": "[encoded data removed]",
            "text/plain": [
              "<Figure size 432x288 with 1 Axes>"
            ]
          },
          "metadata": {
            "tags": []
          }
        }
      ]
    },
    {
      "metadata": {
        "id": "CZYQ0XXzAfHY",
        "colab_type": "code",
        "outputId": "fffd54ee-b9f4-4bf3-b561-154abe29c324",
        "colab": {
          "base_uri": "https://localhost:8080/",
          "height": 54
        }
      },
      "cell_type": "code",
      "source": [
        "import numpy as np\n",
        "array = np.array([[1,2,3,4,5],[\"a\",\"b\",\"c\",\"d\",\"e\"]])\n",
        "\n",
        "array[0,[1,3]] = 9\n",
        "array"
      ],
      "execution_count": 0,
      "outputs": [
        {
          "output_type": "execute_result",
          "data": {
            "text/plain": [
              "array([['1', '9', '3', '9', '5'],\n",
              "       ['a', 'b', 'c', 'd', 'e']], dtype='<U21')"
            ]
          },
          "metadata": {
            "tags": []
          },
          "execution_count": 54
        }
      ]
    },
    {
      "metadata": {
        "id": "_53JJinCBAJ9",
        "colab_type": "text"
      },
      "cell_type": "markdown",
      "source": [
        ""
      ]
    },
    {
      "metadata": {
        "id": "tRyq8ukjdMyb",
        "colab_type": "code",
        "outputId": "acb1485d-10b8-4516-e018-df9a9f383ea2",
        "colab": {
          "base_uri": "https://localhost:8080/",
          "height": 309
        }
      },
      "cell_type": "code",
      "source": [
        "from keras import models\n",
        "from keras import layers\n",
        "from keras.datasets import imdb\n",
        "import numpy as np\n",
        "import matplotlib.pyplot as plt\n",
        "\n",
        "(train_data,train_labels),(test_data,test_labels) = imdb.load_data(num_words=10000)\n",
        "\n",
        "word_index = imdb.get_word_index()\n",
        "reverse_word_index = dict([(value,key) for (key,value) in word_index.items()])\n",
        "\n",
        "# index 0 is defined padding\n",
        "# index 1 is defined sequence start code\n",
        "# index 2 is defined unknown word\n",
        "decoded_review = ' '.join([reverse_word_index.get(i - 3,'?') for i in train_data[0]])\n",
        "\n",
        "def vectorize_sequences(sequences, demensions=10000):\n",
        "  results = np.zeros((len(sequences),demensions))\n",
        "  \n",
        "  for i, sequence in enumerate(sequences):\n",
        "    results[i,sequence] = 1\n",
        "  return results\n",
        "\n",
        "x_train = vectorize_sequences(train_data)\n",
        "x_test = vectorize_sequences(test_data)\n",
        "\n",
        "y_train = np.asarray(train_labels).astype('float32')\n",
        "y_test = np.asarray(test_labels).astype('float32')\n",
        "\n",
        "x_val = x_train[:10000]\n",
        "partial_x_train = x_train[10000:]\n",
        "\n",
        "y_val = y_train[:10000]\n",
        "partial_y_train = y_train[10000:]\n",
        "\n",
        "\n",
        "model = models.Sequential()\n",
        "model.add(layers.Dense(16,activation='relu',input_shape=(10000,)))\n",
        "model.add(layers.Dense(16,activation='relu'))\n",
        "model.add(layers.Dense(1,activation='sigmoid'))\n",
        "          \n",
        "model.compile(optimizer='rmsprop',loss='binary_crossentropy',metrics=['acc'])\n",
        "\n",
        "history = model.fit(partial_x_train,partial_y_train,epochs=4,batch_size=512)\n",
        "          \n",
        "results = model.evaluate(x_test,y_test)\n",
        "results\n",
        "\n",
        "model.predict(x_test)"
      ],
      "execution_count": 0,
      "outputs": [
        {
          "output_type": "stream",
          "text": [
            "Epoch 1/4\n",
            "15000/15000 [==============================] - 2s 106us/step - loss: 0.5084 - acc: 0.7813\n",
            "Epoch 2/4\n",
            "15000/15000 [==============================] - 1s 63us/step - loss: 0.3004 - acc: 0.9047\n",
            "Epoch 3/4\n",
            "15000/15000 [==============================] - 1s 63us/step - loss: 0.2179 - acc: 0.9285\n",
            "Epoch 4/4\n",
            "15000/15000 [==============================] - 1s 63us/step - loss: 0.1750 - acc: 0.9437\n",
            "25000/25000 [==============================] - 2s 92us/step\n"
          ],
          "name": "stdout"
        },
        {
          "output_type": "execute_result",
          "data": {
            "text/plain": [
              "array([[0.23409912],\n",
              "       [0.9974173 ],\n",
              "       [0.7748976 ],\n",
              "       ...,\n",
              "       [0.09021088],\n",
              "       [0.10277787],\n",
              "       [0.34924704]], dtype=float32)"
            ]
          },
          "metadata": {
            "tags": []
          },
          "execution_count": 23
        }
      ]
    },
    {
      "metadata": {
        "id": "U5stKuKMhrO5",
        "colab_type": "text"
      },
      "cell_type": "markdown",
      "source": [
        "# Kaizen\n"
      ]
    },
    {
      "metadata": {
        "id": "1eezT6vCh4V-",
        "colab_type": "code",
        "outputId": "48424748-adfc-44cd-c208-fb665b6d98e7",
        "colab": {
          "base_uri": "https://localhost:8080/",
          "height": 2553
        }
      },
      "cell_type": "code",
      "source": [
        "from keras import models\n",
        "from keras import layers\n",
        "from keras.datasets import imdb\n",
        "import numpy as np\n",
        "import matplotlib.pyplot as plt\n",
        "\n",
        "(train_data,train_labels),(test_data,test_labels) = imdb.load_data(num_words=10000)\n",
        "\n",
        "word_index = imdb.get_word_index()\n",
        "reverse_word_index = dict([(value,key) for (key,value) in word_index.items()])\n",
        "\n",
        "# index 0 is defined padding\n",
        "# index 1 is defined sequence start code\n",
        "# index 2 is defined unknown word\n",
        "decoded_review = ' '.join([reverse_word_index.get(i - 3,'?') for i in train_data[0]])\n",
        "\n",
        "def vectorize_sequences(sequences, demensions=10000):\n",
        "  results = np.zeros((len(sequences),demensions))\n",
        "  \n",
        "  for i, sequence in enumerate(sequences):\n",
        "    results[i,sequence] = 1\n",
        "  return results\n",
        "\n",
        "x_train = vectorize_sequences(train_data)\n",
        "x_test = vectorize_sequences(test_data)\n",
        "\n",
        "y_train = np.asarray(train_labels).astype('float32')\n",
        "y_test = np.asarray(test_labels).astype('float32')\n",
        "\n",
        "x_val = x_train[:10000]\n",
        "partial_x_train = x_train[10000:]\n",
        "\n",
        "y_val = y_train[:10000]\n",
        "partial_y_train = y_train[10000:]\n",
        "\n",
        "epoch_num=20\n",
        "\n",
        "original_model = models.Sequential()\n",
        "original_model.add(layers.Dense(4,activation='relu',input_shape=(10000,)))\n",
        "original_model.add(layers.Dense(4,activation='relu'))\n",
        "original_model.add(layers.Dense(1,activation='sigmoid'))\n",
        "\n",
        "original_model.compile(optimizer='rmsprop',loss='binary_crossentropy',metrics=['acc'])\n",
        "\n",
        "small_model = models.Sequential()\n",
        "small_model.add(layers.Dense(4,activation='relu',input_shape=(10000,)))\n",
        "small_model.add(layers.Dense(4,activation='relu'))\n",
        "small_model.add(layers.Dense(1,activation='sigmoid'))\n",
        "          \n",
        "small_model.compile(optimizer='rmsprop',loss='binary_crossentropy',metrics=['acc'])\n",
        "\n",
        "big_model = models.Sequential()\n",
        "big_model.add(layers.Dense(512,activation='relu',input_shape=(10000,)))\n",
        "big_model.add(layers.Dense(512,activation='relu'))\n",
        "big_model.add(layers.Dense(1,activation='sigmoid'))          \n",
        "big_model.compile(optimizer='rmsprop',loss='binary_crossentropy',metrics=['acc'])\n",
        "\n",
        "original_history = original_model.fit(partial_x_train,partial_y_train,epochs=epoch_num,batch_size=512,validation_data=(x_val,y_val))\n",
        "small_history = small_model.fit(partial_x_train,partial_y_train,epochs=epoch_num,batch_size=512,validation_data=(x_val,y_val))\n",
        "big_history = big_model.fit(partial_x_train,partial_y_train,epochs=epoch_num,batch_size=512,validation_data=(x_val,y_val))\n",
        "\n",
        "epoches = range(1,epoch_num + 1)\n",
        "\n",
        "orig_loss_values = original_history.history['val_loss']\n",
        "small_loss_values = small_history.history['val_loss']\n",
        "big_loss_values = big_history.history['val_loss']\n",
        "\n",
        "\n",
        "plt.plot(epoches,orig_loss_values, 'b+',label='original validation loss')\n",
        "plt.plot(epoches,small_loss_values, 'bo',label='smalll validation loss')\n",
        "plt.plot(epoches,big_loss_values, 'rx',label='big validation loss')\n",
        "\n",
        "\n",
        "plt.title('train and loss')\n",
        "plt.xlabel('Epochs')\n",
        "plt.ylabel('loss')\n",
        "plt.legend()\n",
        "plt.show()\n"
      ],
      "execution_count": 1,
      "outputs": [
        {
          "output_type": "stream",
          "text": [
            "Using TensorFlow backend.\n"
          ],
          "name": "stderr"
        },
        {
          "output_type": "stream",
          "text": [
            "WARNING:tensorflow:From /usr/local/lib/python3.6/dist-packages/tensorflow/python/framework/op_def_library.py:263: colocate_with (from tensorflow.python.framework.ops) is deprecated and will be removed in a future version.\n",
            "Instructions for updating:\n",
            "Colocations handled automatically by placer.\n",
            "WARNING:tensorflow:From /usr/local/lib/python3.6/dist-packages/tensorflow/python/ops/math_ops.py:3066: to_int32 (from tensorflow.python.ops.math_ops) is deprecated and will be removed in a future version.\n",
            "Instructions for updating:\n",
            "Use tf.cast instead.\n",
            "Train on 15000 samples, validate on 10000 samples\n",
            "Epoch 1/20\n",
            "15000/15000 [==============================] - 3s 180us/step - loss: 0.6030 - acc: 0.6631 - val_loss: 0.5559 - val_acc: 0.6800\n",
            "Epoch 2/20\n",
            "15000/15000 [==============================] - 2s 124us/step - loss: 0.5026 - acc: 0.7994 - val_loss: 0.5099 - val_acc: 0.7887\n",
            "Epoch 3/20\n",
            "15000/15000 [==============================] - 2s 125us/step - loss: 0.4558 - acc: 0.8619 - val_loss: 0.5042 - val_acc: 0.7927\n",
            "Epoch 4/20\n",
            "15000/15000 [==============================] - 2s 126us/step - loss: 0.4244 - acc: 0.8994 - val_loss: 0.4721 - val_acc: 0.8623\n",
            "Epoch 5/20\n",
            "15000/15000 [==============================] - 2s 126us/step - loss: 0.4000 - acc: 0.9204 - val_loss: 0.4658 - val_acc: 0.8663\n",
            "Epoch 6/20\n",
            "15000/15000 [==============================] - 2s 122us/step - loss: 0.3794 - acc: 0.9379 - val_loss: 0.4666 - val_acc: 0.8650\n",
            "Epoch 7/20\n",
            "15000/15000 [==============================] - 2s 122us/step - loss: 0.3618 - acc: 0.9471 - val_loss: 0.4843 - val_acc: 0.8484\n",
            "Epoch 8/20\n",
            "15000/15000 [==============================] - 2s 123us/step - loss: 0.3462 - acc: 0.9569 - val_loss: 0.4598 - val_acc: 0.8721\n",
            "Epoch 9/20\n",
            "15000/15000 [==============================] - 2s 124us/step - loss: 0.3329 - acc: 0.9625 - val_loss: 0.4868 - val_acc: 0.8549\n",
            "Epoch 10/20\n",
            "15000/15000 [==============================] - 2s 124us/step - loss: 0.3202 - acc: 0.9693 - val_loss: 0.5153 - val_acc: 0.8464\n",
            "Epoch 11/20\n",
            "15000/15000 [==============================] - 2s 125us/step - loss: 0.3091 - acc: 0.9730 - val_loss: 0.5207 - val_acc: 0.8466\n",
            "Epoch 12/20\n",
            "15000/15000 [==============================] - 2s 125us/step - loss: 0.2986 - acc: 0.9772 - val_loss: 0.4744 - val_acc: 0.8673\n",
            "Epoch 13/20\n",
            "15000/15000 [==============================] - 2s 124us/step - loss: 0.2896 - acc: 0.9788 - val_loss: 0.4503 - val_acc: 0.8738\n",
            "Epoch 14/20\n",
            "15000/15000 [==============================] - 2s 123us/step - loss: 0.2809 - acc: 0.9811 - val_loss: 0.4985 - val_acc: 0.8654\n",
            "Epoch 15/20\n",
            "15000/15000 [==============================] - 2s 125us/step - loss: 0.2720 - acc: 0.9837 - val_loss: 0.5790 - val_acc: 0.8411\n",
            "Epoch 16/20\n",
            "15000/15000 [==============================] - 2s 129us/step - loss: 0.2647 - acc: 0.9838 - val_loss: 0.5841 - val_acc: 0.8446\n",
            "Epoch 17/20\n",
            "15000/15000 [==============================] - 2s 128us/step - loss: 0.2567 - acc: 0.9858 - val_loss: 0.5638 - val_acc: 0.8548\n",
            "Epoch 18/20\n",
            "15000/15000 [==============================] - 2s 130us/step - loss: 0.2506 - acc: 0.9859 - val_loss: 0.5410 - val_acc: 0.8589\n",
            "Epoch 19/20\n",
            "15000/15000 [==============================] - 2s 129us/step - loss: 0.2433 - acc: 0.9872 - val_loss: 0.6071 - val_acc: 0.8514\n",
            "Epoch 20/20\n",
            "15000/15000 [==============================] - 2s 126us/step - loss: 0.2370 - acc: 0.9878 - val_loss: 0.5200 - val_acc: 0.8617\n",
            "Train on 15000 samples, validate on 10000 samples\n",
            "Epoch 1/20\n",
            "15000/15000 [==============================] - 2s 140us/step - loss: 0.6161 - acc: 0.6400 - val_loss: 0.5693 - val_acc: 0.6652\n",
            "Epoch 2/20\n",
            "15000/15000 [==============================] - 2s 126us/step - loss: 0.5183 - acc: 0.7930 - val_loss: 0.5171 - val_acc: 0.8317\n",
            "Epoch 3/20\n",
            "15000/15000 [==============================] - 2s 123us/step - loss: 0.4713 - acc: 0.8568 - val_loss: 0.4911 - val_acc: 0.8305\n",
            "Epoch 4/20\n",
            "15000/15000 [==============================] - 2s 126us/step - loss: 0.4380 - acc: 0.8895 - val_loss: 0.4736 - val_acc: 0.8717\n",
            "Epoch 5/20\n",
            "15000/15000 [==============================] - 2s 126us/step - loss: 0.4121 - acc: 0.9161 - val_loss: 0.4712 - val_acc: 0.8422\n",
            "Epoch 6/20\n",
            "15000/15000 [==============================] - 2s 128us/step - loss: 0.3910 - acc: 0.9293 - val_loss: 0.4670 - val_acc: 0.8461\n",
            "Epoch 7/20\n",
            "15000/15000 [==============================] - 2s 126us/step - loss: 0.3722 - acc: 0.9427 - val_loss: 0.4674 - val_acc: 0.8470\n",
            "Epoch 8/20\n",
            "15000/15000 [==============================] - 2s 128us/step - loss: 0.3565 - acc: 0.9498 - val_loss: 0.4473 - val_acc: 0.8765\n",
            "Epoch 9/20\n",
            "15000/15000 [==============================] - 2s 128us/step - loss: 0.3415 - acc: 0.9589 - val_loss: 0.4458 - val_acc: 0.8764\n",
            "Epoch 10/20\n",
            "15000/15000 [==============================] - 2s 123us/step - loss: 0.3277 - acc: 0.9651 - val_loss: 0.4677 - val_acc: 0.8599\n",
            "Epoch 11/20\n",
            "15000/15000 [==============================] - 2s 123us/step - loss: 0.3155 - acc: 0.9700 - val_loss: 0.4570 - val_acc: 0.8661\n",
            "Epoch 12/20\n",
            "15000/15000 [==============================] - 2s 124us/step - loss: 0.3033 - acc: 0.9754 - val_loss: 0.4728 - val_acc: 0.8622\n",
            "Epoch 13/20\n",
            "15000/15000 [==============================] - 2s 123us/step - loss: 0.2930 - acc: 0.9793 - val_loss: 0.4989 - val_acc: 0.8532\n",
            "Epoch 14/20\n",
            "15000/15000 [==============================] - 2s 124us/step - loss: 0.2828 - acc: 0.9823 - val_loss: 0.5028 - val_acc: 0.8555\n",
            "Epoch 15/20\n",
            "15000/15000 [==============================] - 2s 123us/step - loss: 0.2737 - acc: 0.9844 - val_loss: 0.4689 - val_acc: 0.8693\n",
            "Epoch 16/20\n",
            "15000/15000 [==============================] - 2s 124us/step - loss: 0.2650 - acc: 0.9861 - val_loss: 0.5192 - val_acc: 0.8577\n",
            "Epoch 17/20\n",
            "15000/15000 [==============================] - 2s 123us/step - loss: 0.2564 - acc: 0.9881 - val_loss: 0.4926 - val_acc: 0.8651\n",
            "Epoch 18/20\n",
            "15000/15000 [==============================] - 2s 121us/step - loss: 0.2492 - acc: 0.9889 - val_loss: 0.5175 - val_acc: 0.8621\n",
            "Epoch 19/20\n",
            "15000/15000 [==============================] - 2s 126us/step - loss: 0.2423 - acc: 0.9896 - val_loss: 0.5678 - val_acc: 0.8535\n",
            "Epoch 20/20\n",
            "15000/15000 [==============================] - 2s 127us/step - loss: 0.2355 - acc: 0.9903 - val_loss: 0.6215 - val_acc: 0.8459\n",
            "Train on 15000 samples, validate on 10000 samples\n",
            "Epoch 1/20\n",
            "15000/15000 [==============================] - 11s 747us/step - loss: 0.5596 - acc: 0.7442 - val_loss: 0.3037 - val_acc: 0.8796\n",
            "Epoch 2/20\n",
            "15000/15000 [==============================] - 11s 718us/step - loss: 0.2696 - acc: 0.8956 - val_loss: 0.2761 - val_acc: 0.8869\n",
            "Epoch 3/20\n",
            "15000/15000 [==============================] - 11s 708us/step - loss: 0.1474 - acc: 0.9480 - val_loss: 0.3035 - val_acc: 0.8884\n",
            "Epoch 4/20\n",
            "15000/15000 [==============================] - 11s 709us/step - loss: 0.0995 - acc: 0.9706 - val_loss: 0.3414 - val_acc: 0.8862\n",
            "Epoch 5/20\n",
            "15000/15000 [==============================] - 11s 703us/step - loss: 0.0971 - acc: 0.9754 - val_loss: 0.3250 - val_acc: 0.8856\n",
            "Epoch 6/20\n",
            "15000/15000 [==============================] - 10s 659us/step - loss: 0.0043 - acc: 0.9997 - val_loss: 0.4674 - val_acc: 0.8863\n",
            "Epoch 7/20\n",
            "15000/15000 [==============================] - 10s 673us/step - loss: 5.4800e-04 - acc: 1.0000 - val_loss: 0.5581 - val_acc: 0.8845\n",
            "Epoch 8/20\n",
            "15000/15000 [==============================] - 10s 671us/step - loss: 9.0982e-05 - acc: 1.0000 - val_loss: 0.6456 - val_acc: 0.8844\n",
            "Epoch 9/20\n",
            "15000/15000 [==============================] - 10s 662us/step - loss: 1.5635e-05 - acc: 1.0000 - val_loss: 0.7196 - val_acc: 0.8840\n",
            "Epoch 10/20\n",
            "15000/15000 [==============================] - 10s 663us/step - loss: 3.5666e-06 - acc: 1.0000 - val_loss: 0.7779 - val_acc: 0.8836\n",
            "Epoch 11/20\n",
            "15000/15000 [==============================] - 10s 667us/step - loss: 1.0431e-06 - acc: 1.0000 - val_loss: 0.8292 - val_acc: 0.8842\n",
            "Epoch 12/20\n",
            "15000/15000 [==============================] - 10s 672us/step - loss: 3.7900e-07 - acc: 1.0000 - val_loss: 0.8729 - val_acc: 0.8836\n",
            "Epoch 13/20\n",
            "15000/15000 [==============================] - 10s 670us/step - loss: 1.9634e-07 - acc: 1.0000 - val_loss: 0.9050 - val_acc: 0.8835\n",
            "Epoch 14/20\n",
            "15000/15000 [==============================] - 10s 668us/step - loss: 1.4140e-07 - acc: 1.0000 - val_loss: 0.9261 - val_acc: 0.8837\n",
            "Epoch 15/20\n",
            "15000/15000 [==============================] - 10s 674us/step - loss: 1.2446e-07 - acc: 1.0000 - val_loss: 0.9401 - val_acc: 0.8834\n",
            "Epoch 16/20\n",
            "15000/15000 [==============================] - 10s 671us/step - loss: 1.1786e-07 - acc: 1.0000 - val_loss: 0.9498 - val_acc: 0.8835\n",
            "Epoch 17/20\n",
            "15000/15000 [==============================] - 10s 671us/step - loss: 1.1495e-07 - acc: 1.0000 - val_loss: 0.9560 - val_acc: 0.8837\n",
            "Epoch 18/20\n",
            "15000/15000 [==============================] - 10s 696us/step - loss: 1.1329e-07 - acc: 1.0000 - val_loss: 0.9610 - val_acc: 0.8832\n",
            "Epoch 19/20\n",
            "15000/15000 [==============================] - 10s 693us/step - loss: 1.1232e-07 - acc: 1.0000 - val_loss: 0.9656 - val_acc: 0.8831\n",
            "Epoch 20/20\n",
            "15000/15000 [==============================] - 10s 676us/step - loss: 1.1179e-07 - acc: 1.0000 - val_loss: 0.9693 - val_acc: 0.8833\n"
          ],
          "name": "stdout"
        },
        {
          "output_type": "display_data",
          "data": {
            "image/png": "[encoded data removed]",
            "text/plain": [
              "<Figure size 432x288 with 1 Axes>"
            ]
          },
          "metadata": {
            "tags": []
          }
        }
      ]
    },
    {
      "metadata": {
        "id": "vx4pIjNpwJBA",
        "colab_type": "code",
        "colab": {}
      },
      "cell_type": "code",
      "source": [
        ""
      ],
      "execution_count": 0,
      "outputs": []
    }
  ]
}